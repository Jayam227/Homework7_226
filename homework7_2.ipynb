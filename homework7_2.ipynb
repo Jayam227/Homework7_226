{
  "nbformat": 4,
  "nbformat_minor": 0,
  "metadata": {
    "colab": {
      "provenance": []
    },
    "kernelspec": {
      "name": "python3",
      "display_name": "Python 3"
    },
    "language_info": {
      "name": "python"
    }
  },
  "cells": [
    {
      "cell_type": "code",
      "execution_count": null,
      "metadata": {
        "id": "j4nwI1uhitdB"
      },
      "outputs": [],
      "source": [
        "from airflow import DAG\n",
        "from airflow.decorators import task\n",
        "from airflow.providers.snowflake.operators.snowflake import SnowflakeOperator\n",
        "from airflow.utils.dates import days_ago\n",
        "\n",
        "# Default DAG arguments\n",
        "default_args = {\n",
        "    'owner': 'Jayam',\n",
        "    'email_on_failure': False,\n",
        "    'email_on_retry': False,\n",
        "    'retries': 1,\n",
        "}\n",
        "\n",
        "with DAG(\n",
        "    dag_id='elt_join_tables',\n",
        "    default_args=default_args,\n",
        "    schedule_interval=None,\n",
        "    start_date=days_ago(1),\n",
        "    catchup=False,\n",
        ") as dag:\n",
        "\n",
        "    create_joined_table = SnowflakeOperator(\n",
        "        task_id='create_mysession_summary',\n",
        "        sql=\"\"\"\n",
        "            CREATE OR REPLACE TABLE analytics.session_summary AS\n",
        "            SELECT\n",
        "                usc.userId,\n",
        "                usc.sessionId,\n",
        "                usc.channel,\n",
        "                st.ts\n",
        "            FROM raw_data.user_session_channel usc\n",
        "            JOIN raw_data.session_timestamp st\n",
        "            ON usc.sessionId = st.sessionId;\n",
        "        \"\"\",\n",
        "        snowflake_conn_id='admin_snowflake_conn',\n",
        "    )\n",
        "\n",
        "    remove_duplicates = SnowflakeOperator(\n",
        "        task_id='remove_duplicates',\n",
        "        sql=\"\"\"\n",
        "            DELETE FROM analytics.session_summary\n",
        "            WHERE sessionId IN (\n",
        "                SELECT sessionId\n",
        "                FROM analytics.session_summary\n",
        "                GROUP BY sessionId\n",
        "                HAVING COUNT(*) > 1\n",
        "            );\n",
        "        \"\"\",\n",
        "        snowflake_conn_id='admin_snowflake_conn',\n",
        "    )\n",
        "\n",
        "    create_joined_table >> remove_duplicates"
      ]
    }
  ]
}